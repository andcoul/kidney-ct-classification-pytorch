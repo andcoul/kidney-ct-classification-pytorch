{
 "cells": [
  {
   "cell_type": "code",
   "execution_count": null,
   "outputs": [],
   "source": [
    "import os\n",
    "\n",
    "os.chdir(\"../\")"
   ],
   "metadata": {
    "collapsed": false
   },
   "id": "fae4dfaa40f3f55e"
  },
  {
   "cell_type": "code",
   "execution_count": null,
   "outputs": [],
   "source": [
    "%pwd"
   ],
   "metadata": {
    "collapsed": false
   },
   "id": "118dc70fb9909b3a"
  },
  {
   "cell_type": "code",
   "execution_count": 9,
   "outputs": [
    {
     "name": "stdout",
     "output_type": "stream",
     "text": [
      "372\n",
      "93\n",
      "Dataset ImageFolder\n",
      "    Number of datapoints: 465\n",
      "    Root location: artifacts/data_ingestion/kidney-ct-scan-image\n",
      "    StandardTransform\n",
      "Transform: Compose(\n",
      "               RandomResizedCrop(size=(224, 224), scale=(0.08, 1.0), ratio=(0.75, 1.3333), interpolation=bilinear, antialias=warn)\n",
      "               RandomHorizontalFlip(p=0.5)\n",
      "               ToTensor()\n",
      "               Normalize(mean=[0.485, 0.456, 0.406], std=[0.229, 0.224, 0.225])\n",
      "           )\n"
     ]
    }
   ],
   "source": [
    "import os\n",
    "from torchvision.datasets import ImageFolder\n",
    "from torch.utils.data import DataLoader\n",
    "from kidneyCtClassifier.entity.config_entity import TrainingConfig\n",
    "from kidneyCtClassifier.utils.common import transform_data\n",
    "from sklearn.model_selection import train_test_split\n",
    "from torch.utils.data import Subset\n",
    "\n",
    "\n",
    "class DataPreparation:\n",
    "    def __init__(self):\n",
    "        # self.config = config\n",
    "        self.transform = transform_data()\n",
    "\n",
    "    def load_data(self):\n",
    "        dataset = ImageFolder(str(os.path.join('artifacts/data_ingestion', 'kidney-ct-scan-image')),\n",
    "                                         transform=self.transform['train'])\n",
    "        datasets = self.train_val_dataset(dataset)\n",
    "        print(len(datasets['train']))\n",
    "        print(len(datasets['val']))\n",
    "        # The original dataset is available in the Subset class\n",
    "        print(datasets['train'].dataset)\n",
    "\n",
    "        dataloaders = {x: DataLoader(dataset=datasets[x], batch_size=16, pin_memory=True,\n",
    "                                     shuffle=False, num_workers=4) for x in ['train', 'val']}\n",
    "\n",
    "        return dataloaders\n",
    "\n",
    "    @staticmethod\n",
    "    def train_val_dataset(dataset, val_split=0.20):\n",
    "        train_idx, val_idx = train_test_split(list(range(len(dataset))), test_size=val_split)\n",
    "        datasets = {}\n",
    "        datasets['train'] = Subset(dataset, train_idx)\n",
    "        datasets['val'] = Subset(dataset, val_idx)\n",
    "        return datasets\n",
    "\n",
    "\n",
    "data_preparation = DataPreparation()\n",
    "loader = data_preparation.load_data()\n"
   ],
   "metadata": {
    "collapsed": false,
    "ExecuteTime": {
     "end_time": "2023-10-30T23:15:04.729524Z",
     "start_time": "2023-10-30T23:15:04.683444Z"
    }
   },
   "id": "793c35de8124f45"
  },
  {
   "cell_type": "code",
   "execution_count": null,
   "outputs": [],
   "source": [],
   "metadata": {
    "collapsed": false
   },
   "id": "fcd2c33c91367866"
  }
 ],
 "metadata": {
  "kernelspec": {
   "display_name": "Python 3",
   "language": "python",
   "name": "python3"
  },
  "language_info": {
   "codemirror_mode": {
    "name": "ipython",
    "version": 2
   },
   "file_extension": ".py",
   "mimetype": "text/x-python",
   "name": "python",
   "nbconvert_exporter": "python",
   "pygments_lexer": "ipython2",
   "version": "2.7.6"
  }
 },
 "nbformat": 4,
 "nbformat_minor": 5
}
